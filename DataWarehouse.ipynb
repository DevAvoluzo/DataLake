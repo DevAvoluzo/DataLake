{
  "nbformat": 4,
  "nbformat_minor": 0,
  "metadata": {
    "colab": {
      "provenance": [],
      "authorship_tag": "ABX9TyPJMHOxCgag8FUG0h2ML2Hj",
      "include_colab_link": true
    },
    "kernelspec": {
      "name": "python3",
      "display_name": "Python 3"
    },
    "language_info": {
      "name": "python"
    }
  },
  "cells": [
    {
      "cell_type": "markdown",
      "metadata": {
        "id": "view-in-github",
        "colab_type": "text"
      },
      "source": [
        "<a href=\"https://colab.research.google.com/github/DevAvoluzo/DataLake/blob/main/DataWarehouse.ipynb\" target=\"_parent\"><img src=\"https://colab.research.google.com/assets/colab-badge.svg\" alt=\"Open In Colab\"/></a>"
      ]
    },
    {
      "cell_type": "code",
      "execution_count": 1,
      "metadata": {
        "colab": {
          "base_uri": "https://localhost:8080/"
        },
        "id": "iv2MiAAcnMLV",
        "outputId": "6f3dc613-0eb0-4c23-e4b7-37d0d5c46ace"
      },
      "outputs": [
        {
          "output_type": "stream",
          "name": "stdout",
          "text": [
            "Conteúdo do data_warehouse.csv\n",
            "           data  produto_id  quantidade  valor_total         nome    categoria\n",
            "0    2024-04-06         420         230         9863  Produto 420    Alimentos\n",
            "1    2024-04-29         420         286         1300  Produto 420    Alimentos\n",
            "2    2024-04-04         495         268         5701  Produto 495    Alimentos\n",
            "3    2024-04-16         495         206         5388  Produto 495    Alimentos\n",
            "4    2024-04-14         275         370         4878  Produto 275    Alimentos\n",
            "..          ...         ...         ...          ...          ...          ...\n",
            "995  2024-04-04         526          82         6493  Produto 526       Roupas\n",
            "996  2024-04-27         130         485         8554  Produto 130       Roupas\n",
            "997  2024-04-27         513         456         6260  Produto 513    Alimentos\n",
            "998  2024-04-23         133          92         8175  Produto 133    Alimentos\n",
            "999  2024-04-18         335         278         8608  Produto 335  Eletrônicos\n",
            "\n",
            "[1000 rows x 6 columns]\n"
          ]
        }
      ],
      "source": [
        "import pandas as pd\n",
        "import numpy as np\n",
        "\n",
        "# Define um conjunto de dados sobre produto,\n",
        "# estabelece o tamanho 600:\n",
        "total_de_produtos = 600\n",
        "produtos = {\n",
        "    \"produto_id\": range(1, total_de_produtos + 1),\n",
        "    \"nome\": [f\"Produto {i}\" for i in range(1, total_de_produtos + 1)],\n",
        "    \"categoria\": np.random.choice([\"Eletrônicos\", \"Roupas\", \"Alimentos\"], total_de_produtos),\n",
        "}\n",
        "\n",
        "# Inseri os produtos dentro do Data Frame:\n",
        "df_produtos = pd.DataFrame(produtos)\n",
        "\n",
        "\n",
        "# Define um conjunto de dados sobre datas de vendas,\n",
        "# estabelece o tamanho 1000:\n",
        "total_de_vendas = 1000\n",
        "data_vendas = {\n",
        "    \"data\": np.random.choice(pd.date_range(\"2024-04-01\", periods=30), total_de_vendas),\n",
        "    \"produto_id\": np.random.randint(1, total_de_produtos + 1, total_de_vendas),\n",
        "    \"quantidade\": np.random.randint(50, 500, total_de_vendas),\n",
        "    \"valor_total\": np.random.randint(1000, 10000, total_de_vendas),\n",
        "}\n",
        "\n",
        "# Inseri as vendas dentro do Data Frame:\n",
        "df_vendas = pd.DataFrame(data_vendas)\n",
        "\n",
        "# Salva as vendas como arquivo .csv:\n",
        "df_vendas.to_csv(\"vendas.csv\", index=False)\n",
        "\n",
        "#Salva os produtos como arquivo .csv:\n",
        "df_produtos.to_csv(\"produtos.csv\", index=False)\n",
        "\n",
        "# atribui o valor dos arquivos em variáveis\n",
        "df_vendas = pd.read_csv(\"vendas.csv\")\n",
        "df_produtos = pd.read_csv(\"produtos.csv\")\n",
        "\n",
        "# Agrupa vendas e produtos:\n",
        "df_merge = pd.merge(df_vendas, df_produtos, on=\"produto_id\", how=\"inner\")\n",
        "\n",
        "# Cria um arquivo .csv, para armazenar as informações, \"data_warehouse.csv\"\n",
        "df_merge.to_csv(\"data_warehouse.csv\", index=False)\n",
        "\n",
        "# atribuí o valor do warehouse a uma variável, podendo exibir as informações na tela\n",
        "df_warehouse = pd.read_csv(\"data_warehouse.csv\")\n",
        "print(\"Conteúdo do data_warehouse.csv\")\n",
        "print(df_warehouse)"
      ]
    }
  ]
}